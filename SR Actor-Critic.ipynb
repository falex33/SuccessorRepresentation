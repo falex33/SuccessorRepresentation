{
 "cells": [
  {
   "cell_type": "code",
   "execution_count": 10,
   "metadata": {},
   "outputs": [],
   "source": [
    "import numpy as np\n",
    "import matplotlib.pyplot as plt\n",
    "import utils\n",
    "from sklearn.decomposition import PCA\n",
    "from gridworld import SimpleGrid\n",
    "\n",
    "%matplotlib inline\n",
    "\n",
    "cmap = plt.cm.viridis\n",
    "cmap.set_bad(color='white')"
   ]
  },
  {
   "cell_type": "code",
   "execution_count": 11,
   "metadata": {},
   "outputs": [
    {
     "data": {
      "text/plain": [
       "<matplotlib.image.AxesImage at 0x7ff3fdfde128>"
      ]
     },
     "execution_count": 11,
     "metadata": {},
     "output_type": "execute_result"
    },
    {
     "data": {
      "image/png": "[encoded data removed]",
      "text/plain": [
       "<Figure size 432x288 with 1 Axes>"
      ]
     },
     "metadata": {
      "needs_background": "light"
     },
     "output_type": "display_data"
    }
   ],
   "source": [
    "grid_size = 7\n",
    "pattern=\"four_rooms\"\n",
    "env = SimpleGrid(grid_size, block_pattern=pattern, obs_mode=\"index\")\n",
    "env.reset(agent_pos=[0,0], goal_pos=[0, grid_size-1])\n",
    "plt.imshow(env.grid)"
   ]
  },
  {
   "cell_type": "code",
   "execution_count": 20,
   "metadata": {},
   "outputs": [],
   "source": [
    "class TabularSuccessorAgent(object):\n",
    "    def __init__(self, state_size, action_size, learning_rate, gamma):\n",
    "        self.state_size = state_size\n",
    "        self.action_size = action_size\n",
    "        self.M = np.stack([np.identity(state_size) for i in range(action_size)])\n",
    "        self.M_s = np.identity(state_size)\n",
    "        self.w = np.zeros([state_size])\n",
    "        self.learning_rate = learning_rate\n",
    "        self.gamma = gamma\n",
    "        \n",
    "    def Q_estimates(self, state, goal=None):\n",
    "        # Generate Q values for all actions.\n",
    "        if goal == None:\n",
    "            goal = self.w\n",
    "        else:\n",
    "            goal = utils.onehot(goal, self.state_size)\n",
    "        return np.matmul(self.M[:,state,:],goal)\n",
    "    \n",
    "    def sample_action(self, state, goal=None, epsilon=0.0):\n",
    "        # Samples action using epsilon-greedy approach\n",
    "        if np.random.uniform(0, 1) < epsilon:\n",
    "            action = np.random.randint(self.action_size)\n",
    "        else:\n",
    "            Qs = self.Q_estimates(state, goal)\n",
    "            action = np.argmax(Qs)\n",
    "        return action\n",
    "    \n",
    "    def update_w(self, current_exp):\n",
    "        # A simple update rule (for reward learning?)\n",
    "        s_1 = current_exp[2]\n",
    "        r = current_exp[3]\n",
    "        error = r - self.w[s_1]\n",
    "        self.w[s_1] += self.learning_rate * error        \n",
    "        return error\n",
    "    \n",
    "    \n",
    "    def update_actor(state_action_matrix, observation, action, delta, beta_matrix=None):\n",
    "        '''\n",
    "        Return the updated state-action matrix\n",
    "        @param state_action_matrix the matrix before the update\n",
    "        @param observation the state obsrved at t\n",
    "        @param action taken at time t\n",
    "        @param delta the estimation error returned by the critic\n",
    "        @param beta_matrix a visit counter for each state-action pair\n",
    "        @return the updated matrix\n",
    "        '''\n",
    "        col = observation[1] + (observation[0]*4)\n",
    "        if beta_matrix is None: beta = 1\n",
    "        else: beta = 1 / beta_matrix[action,col]\n",
    "        state_action_matrix[action, col] += beta * delta\n",
    "        return state_action_matrix \n",
    "\n",
    "\n",
    "    def update_sr2(self,current_exp,next_exp):\n",
    "        s = current_exp[0]\n",
    "        s_1 = current_exp[2]\n",
    "        r = current_exp[3]\n",
    "        d = current_exp[4]\n",
    "        I = utils.onehot(s, env.state_size)\n",
    "        if d:            \n",
    "            td_error = (I + self.gamma * utils.onehot(s_1, env.state_size) - self.M_s[ s, :])\n",
    "        else:\n",
    "            td_error = (I + self.gamma * self.M_s[s_1, :] - self.M_s[s, :])\n",
    "            #print (td_error)\n",
    "        self.M_s[s, :] += self.learning_rate * td_error\n",
    "        \n",
    "        return td_error\n",
    "    def update_sr(self, current_exp, next_exp):\n",
    "        # SARSA TD learning rule\n",
    "        s = current_exp[0]\n",
    "        s_a = current_exp[1]\n",
    "        s_1 = current_exp[2]\n",
    "        s_a_1 = next_exp[1]\n",
    "        r = current_exp[3]\n",
    "        d = current_exp[4]\n",
    "        I = utils.onehot(s, env.state_size)\n",
    "        if d:            \n",
    "            td_error = (I + self.gamma * utils.onehot(s_1, env.state_size) - self.M[s_a, s, :])\n",
    "        else:\n",
    "            td_error = (I + self.gamma * self.M[s_a_1, s_1, :] - self.M[s_a, s, :])\n",
    "        self.M[s_a, s, :] += self.learning_rate * td_error\n",
    "        \n",
    "        return td_error"
   ]
  },
  {
   "cell_type": "code",
   "execution_count": 18,
   "metadata": {},
   "outputs": [
    {
     "name": "stdout",
     "output_type": "stream",
     "text": [
      "(4, 49, 49)\n",
      "(49, 49)\n"
     ]
    }
   ],
   "source": [
    "agent = TabularSuccessorAgent(env.state_size, env.action_size, lr, gamma)\n",
    "print(np.shape(agent.M))\n",
    "print (np.shape(agent.M[0]))"
   ]
  },
  {
   "cell_type": "code",
   "execution_count": 29,
   "metadata": {},
   "outputs": [
    {
     "data": {
      "text/plain": [
       "Text(0.5, 1.0, 'Episode Lengths')"
      ]
     },
     "execution_count": 29,
     "metadata": {},
     "output_type": "execute_result"
    },
    {
     "data": {
      "image/png": "[encoded data removed]",
      "text/plain": [
       "<Figure size 720x432 with 2 Axes>"
      ]
     },
     "metadata": {
      "needs_background": "light"
     },
     "output_type": "display_data"
    }
   ],
   "source": [
    "train_episode_length = 50\n",
    "test_episode_length = 50\n",
    "episodes = 1000\n",
    "gamma = 0.95\n",
    "lr = 5e-2\n",
    "train_epsilon = 1.0\n",
    "test_epsilon = 0.1\n",
    "\n",
    "\n",
    "# instantiating grid\n",
    "agent = TabularSuccessorAgent(env.state_size, env.action_size, lr, gamma)\n",
    "\n",
    "experiences = []\n",
    "test_experiences = []\n",
    "test_lengths = []\n",
    "lifetime_td_errors = []\n",
    "\n",
    "\n",
    "for i in range(episodes):\n",
    "    # Train phase\n",
    "    agent_start = [0,0]\n",
    "    \n",
    "    # for now having a single goal pos\n",
    "    goal_pos = [0, grid_size-1]\n",
    "    '''\n",
    "    if i < episodes // 2: #Integer division\n",
    "        goal_pos = [0, grid_size-1]\n",
    "    else:\n",
    "        if i == episodes // 2:\n",
    "            print(\"\\nSwitched reward locations\")\n",
    "        goal_pos = [grid_size-1,grid_size-1]\n",
    "    '''\n",
    "    env.reset(agent_pos=agent_start, goal_pos=goal_pos)\n",
    "    state = env.observation\n",
    "    episodic_error = []\n",
    "    for j in range(train_episode_length):\n",
    "        \n",
    "        #instead of sampling action, implement actor here\n",
    "        action = agent.sample_action(state, epsilon=train_epsilon)\n",
    "        reward = env.step(action)\n",
    "        state_next = env.observation\n",
    "        done = env.done\n",
    "        experiences.append([state, action, state_next, reward, done])\n",
    "        state = state_next\n",
    "        if (j > 1):\n",
    "            td_sr = agent.update_sr2(experiences[-2], experiences[-1])\n",
    "            td_w = agent.update_w(experiences[-1])\n",
    "            # storing episodic errors\n",
    "            episodic_error.append(np.mean(np.abs(td_sr)))\n",
    "        if env.done:\n",
    "            td_sr = agent.update_sr2(experiences[-1], experiences[-1])\n",
    "            episodic_error.append(np.mean(np.abs(td_sr)))\n",
    "            break\n",
    "    lifetime_td_errors.append(np.mean(episodic_error))\n",
    "    '''\n",
    "    # Test phase\n",
    "    env.reset(agent_pos=agent_start, goal_pos=goal_pos)\n",
    "    state = env.observation\n",
    "    for j in range(test_episode_length):\n",
    "        action = agent.sample_action(state, epsilon=test_epsilon)\n",
    "        reward = env.step(action)\n",
    "        state_next = env.observation\n",
    "        test_experiences.append([state, action, state_next, reward])\n",
    "        state = state_next\n",
    "        if env.done:\n",
    "            break\n",
    "    test_lengths.append(j)\n",
    "    \n",
    "    if i % 50 == 0:\n",
    "        print('\\rEpisode {}/{}, TD Error: {}, Test Lengths: {}'\n",
    "              .format(i, episodes, np.mean(lifetime_td_errors[-50:]), \n",
    "                      np.mean(test_lengths[-50:])), end='')\n",
    "    '''\n",
    "\n",
    "fig = plt.figure(figsize=(10, 6))\n",
    "\n",
    "ax = fig.add_subplot(2, 2, 1)\n",
    "ax.plot(lifetime_td_errors)\n",
    "ax.set_title(\"TD Error\")\n",
    "ax = fig.add_subplot(2, 2, 2)\n",
    "ax.plot(test_lengths)\n",
    "ax.set_title(\"Episode Lengths\")\n"
   ]
  },
  {
   "cell_type": "code",
   "execution_count": 24,
   "metadata": {},
   "outputs": [
    {
     "name": "stdout",
     "output_type": "stream",
     "text": [
      "0.09954242135870627\n"
     ]
    }
   ],
   "source": [
    "print (lifetime_td_errors[1999])"
   ]
  },
  {
   "cell_type": "code",
   "execution_count": 23,
   "metadata": {},
   "outputs": [],
   "source": [
    "def print_occupancy(experiences, grid_size):\n",
    "    occupancy_grid = np.zeros([grid_size, grid_size])\n",
    "    for experience in experiences:\n",
    "        occupancy_grid += env.state_to_grid(experience[0])\n",
    "    occupancy_grid = np.sqrt(occupancy_grid)\n",
    "    occupancy_grid = utils.mask_grid(occupancy_grid, env.blocks)\n",
    "    plt.imshow(occupancy_grid)"
   ]
  },
  {
   "cell_type": "code",
   "execution_count": 24,
   "metadata": {},
   "outputs": [
    {
     "data": {
      "image/png": "[encoded data removed]",
      "text/plain": [
       "<Figure size 432x288 with 1 Axes>"
      ]
     },
     "metadata": {
      "needs_background": "light"
     },
     "output_type": "display_data"
    }
   ],
   "source": [
    "print_occupancy(experiences, grid_size)"
   ]
  },
  {
   "cell_type": "code",
   "execution_count": 33,
   "metadata": {
    "scrolled": true
   },
   "outputs": [
    {
     "data": {
      "text/plain": [
       "<matplotlib.image.AxesImage at 0x7f8b3cab0400>"
      ]
     },
     "execution_count": 33,
     "metadata": {},
     "output_type": "execute_result"
    },
    {
     "data": {
      "image/png": "[encoded data removed]",
      "text/plain": [
       "<Figure size 432x288 with 1 Axes>"
      ]
     },
     "metadata": {
      "needs_background": "light"
     },
     "output_type": "display_data"
    },
    {
     "data": {
      "image/png": "[encoded data removed]",
      "text/plain": [
       "<Figure size 288x288 with 1 Axes>"
      ]
     },
     "metadata": {
      "needs_background": "light"
     },
     "output_type": "display_data"
    }
   ],
   "source": [
    "#averaged_M = np.mean(agent.M_s)\n",
    "plt.imshow(agent.M_s)"
   ]
  },
  {
   "cell_type": "code",
   "execution_count": 32,
   "metadata": {},
   "outputs": [
    {
     "ename": "IndexError",
     "evalue": "tuple index out of range",
     "output_type": "error",
     "traceback": [
      "\u001b[0;31m---------------------------------------------------------------------------\u001b[0m",
      "\u001b[0;31mIndexError\u001b[0m                                Traceback (most recent call last)",
      "\u001b[0;32m<ipython-input-32-fb80dd74e891>\u001b[0m in \u001b[0;36m<module>\u001b[0;34m\u001b[0m\n\u001b[1;32m      9\u001b[0m         \u001b[0max\u001b[0m \u001b[0;34m=\u001b[0m \u001b[0mplt\u001b[0m\u001b[0;34m.\u001b[0m\u001b[0msubplot\u001b[0m\u001b[0;34m(\u001b[0m\u001b[0mgrid_size\u001b[0m\u001b[0;34m,\u001b[0m \u001b[0mgrid_size\u001b[0m\u001b[0;34m,\u001b[0m \u001b[0mi\u001b[0m \u001b[0;34m+\u001b[0m \u001b[0;36m1\u001b[0m\u001b[0;34m)\u001b[0m\u001b[0;34m\u001b[0m\u001b[0;34m\u001b[0m\u001b[0m\n\u001b[1;32m     10\u001b[0m         \u001b[0;31m#ax.imshow(utils.mask_grid(averaged_M[i,:,:], env.blocks), cmap=cmap)\u001b[0m\u001b[0;34m\u001b[0m\u001b[0;34m\u001b[0m\u001b[0;34m\u001b[0m\u001b[0m\n\u001b[0;32m---> 11\u001b[0;31m         \u001b[0max\u001b[0m\u001b[0;34m.\u001b[0m\u001b[0mimshow\u001b[0m\u001b[0;34m(\u001b[0m\u001b[0mutils\u001b[0m\u001b[0;34m.\u001b[0m\u001b[0mmask_grid\u001b[0m\u001b[0;34m(\u001b[0m\u001b[0magent\u001b[0m\u001b[0;34m.\u001b[0m\u001b[0mM_s\u001b[0m\u001b[0;34m[\u001b[0m\u001b[0mi\u001b[0m\u001b[0;34m,\u001b[0m\u001b[0;34m:\u001b[0m\u001b[0;34m]\u001b[0m\u001b[0;34m,\u001b[0m \u001b[0menv\u001b[0m\u001b[0;34m.\u001b[0m\u001b[0mblocks\u001b[0m\u001b[0;34m)\u001b[0m\u001b[0;34m,\u001b[0m \u001b[0mcmap\u001b[0m\u001b[0;34m=\u001b[0m\u001b[0mcmap\u001b[0m\u001b[0;34m)\u001b[0m\u001b[0;34m\u001b[0m\u001b[0;34m\u001b[0m\u001b[0m\n\u001b[0m",
      "\u001b[0;32m/media/mnemosyne/data/Research/Codes/successor_examples-master/utils.py\u001b[0m in \u001b[0;36mmask_grid\u001b[0;34m(grid, blocks, mask_value)\u001b[0m\n\u001b[1;32m     15\u001b[0m \u001b[0;32mdef\u001b[0m \u001b[0mmask_grid\u001b[0m\u001b[0;34m(\u001b[0m\u001b[0mgrid\u001b[0m\u001b[0;34m,\u001b[0m \u001b[0mblocks\u001b[0m\u001b[0;34m,\u001b[0m \u001b[0mmask_value\u001b[0m\u001b[0;34m=\u001b[0m\u001b[0;34m-\u001b[0m\u001b[0;36m100\u001b[0m\u001b[0;34m)\u001b[0m\u001b[0;34m:\u001b[0m\u001b[0;34m\u001b[0m\u001b[0;34m\u001b[0m\u001b[0m\n\u001b[1;32m     16\u001b[0m     \u001b[0;32mfor\u001b[0m \u001b[0mi\u001b[0m \u001b[0;32min\u001b[0m \u001b[0mrange\u001b[0m\u001b[0;34m(\u001b[0m\u001b[0mgrid\u001b[0m\u001b[0;34m.\u001b[0m\u001b[0mshape\u001b[0m\u001b[0;34m[\u001b[0m\u001b[0;36m0\u001b[0m\u001b[0;34m]\u001b[0m\u001b[0;34m)\u001b[0m\u001b[0;34m:\u001b[0m\u001b[0;34m\u001b[0m\u001b[0;34m\u001b[0m\u001b[0m\n\u001b[0;32m---> 17\u001b[0;31m         \u001b[0;32mfor\u001b[0m \u001b[0mj\u001b[0m \u001b[0;32min\u001b[0m \u001b[0mrange\u001b[0m\u001b[0;34m(\u001b[0m\u001b[0mgrid\u001b[0m\u001b[0;34m.\u001b[0m\u001b[0mshape\u001b[0m\u001b[0;34m[\u001b[0m\u001b[0;36m1\u001b[0m\u001b[0;34m]\u001b[0m\u001b[0;34m)\u001b[0m\u001b[0;34m:\u001b[0m\u001b[0;34m\u001b[0m\u001b[0;34m\u001b[0m\u001b[0m\n\u001b[0m\u001b[1;32m     18\u001b[0m             \u001b[0;32mif\u001b[0m \u001b[0;34m[\u001b[0m\u001b[0mi\u001b[0m\u001b[0;34m,\u001b[0m\u001b[0mj\u001b[0m\u001b[0;34m]\u001b[0m \u001b[0;32min\u001b[0m \u001b[0mblocks\u001b[0m\u001b[0;34m:\u001b[0m\u001b[0;34m\u001b[0m\u001b[0;34m\u001b[0m\u001b[0m\n\u001b[1;32m     19\u001b[0m                 \u001b[0mgrid\u001b[0m\u001b[0;34m[\u001b[0m\u001b[0mi\u001b[0m\u001b[0;34m,\u001b[0m\u001b[0mj\u001b[0m\u001b[0;34m]\u001b[0m \u001b[0;34m=\u001b[0m \u001b[0mmask_value\u001b[0m\u001b[0;34m\u001b[0m\u001b[0;34m\u001b[0m\u001b[0m\n",
      "\u001b[0;31mIndexError\u001b[0m: tuple index out of range"
     ]
    },
    {
     "data": {
      "image/png": "[encoded data removed]",
      "text/plain": [
       "<Figure size 1512x1512 with 1 Axes>"
      ]
     },
     "metadata": {
      "needs_background": "light"
     },
     "output_type": "display_data"
    }
   ],
   "source": [
    "#averaged_M = np.reshape(averaged_M, [env.state_size, grid_size, grid_size])\n",
    "\n",
    "cmap = plt.cm.viridis\n",
    "cmap.set_bad(color='white')\n",
    "\n",
    "plt.figure(1, figsize=(grid_size*3, grid_size*3))\n",
    "for i in range(env.state_size):\n",
    "    if env.state_to_point(i) not in env.blocks:\n",
    "        ax = plt.subplot(grid_size, grid_size, i + 1)\n",
    "        #ax.imshow(utils.mask_grid(averaged_M[i,:,:], env.blocks), cmap=cmap)\n",
    "        ax.imshow(utils.mask_grid(agent.M_s[i,:], env.blocks), cmap=cmap)"
   ]
  },
  {
   "cell_type": "markdown",
   "metadata": {},
   "source": [
    "##  SR Actor Critic\n",
    "\n",
    "The following section explores creating a separated actor critic architecture"
   ]
  },
  {
   "cell_type": "code",
   "execution_count": 37,
   "metadata": {},
   "outputs": [],
   "source": [
    "import numpy as np\n",
    "import matplotlib.pyplot as plt\n",
    "import utils\n",
    "from sklearn.decomposition import PCA\n",
    "from gridworld import SimpleGrid\n",
    "\n",
    "%matplotlib inline\n",
    "\n",
    "cmap = plt.cm.viridis\n",
    "cmap.set_bad(color='white')"
   ]
  },
  {
   "cell_type": "code",
   "execution_count": 38,
   "metadata": {},
   "outputs": [],
   "source": [
    "def softmax(x):\n",
    "    '''Compute softmax values of array x.\n",
    "\n",
    "    @param x the input array\n",
    "    @return the softmax array\n",
    "    '''\n",
    "    return np.exp(x - np.max(x)) / np.sum(np.exp(x - np.max(x)))\n",
    "\n",
    "def update_critic(utility_matrix, observation, new_observation, \n",
    "                   reward, alpha, gamma, done):\n",
    "    '''Return the updated utility matrix\n",
    "\n",
    "    @param utility_matrix the matrix before the update\n",
    "    @param observation the state obsrved at t\n",
    "    @param new_observation the state observed at t+1\n",
    "    @param reward the reward observed after the action\n",
    "    @param alpha the step size (learning rate)\n",
    "    @param gamma the discount factor\n",
    "    @return the updated utility matrix\n",
    "    @return the estimation error delta\n",
    "    '''\n",
    "    u = utility_matrix[observation[0], observation[1]]\n",
    "    u_t1 = utility_matrix[new_observation[0], new_observation[1]]\n",
    "    delta = reward + ((gamma * u_t1) - u)\n",
    "    utility_matrix[observation[0], observation[1]] += alpha * delta\n",
    "    return utility_matrix, delta\n",
    "\n",
    "\n",
    "def update_actor(state_action_matrix, observation, action, delta, beta_matrix=None):\n",
    "    '''Return the updated state-action matrix\n",
    "\n",
    "    @param state_action_matrix the matrix before the update\n",
    "    @param observation the state obsrved at t\n",
    "    @param action taken at time t\n",
    "    @param delta the estimation error returned by the critic\n",
    "    @param beta_matrix a visit counter for each state-action pair\n",
    "    @return the updated matrix\n",
    "    '''\n",
    "    col = observation[1] + (observation[0]*4)\n",
    "    if beta_matrix is None: beta = 1\n",
    "    else: beta = 1 / beta_matrix[action,col]\n",
    "    state_action_matrix[action, col] += beta * delta\n",
    "    return state_action_matrix \n"
   ]
  },
  {
   "cell_type": "code",
   "execution_count": null,
   "metadata": {},
   "outputs": [],
   "source": [
    "def main():\n",
    "    \n",
    "    \n",
    "    train_episode_length = 50\n",
    "    test_episode_length = 50\n",
    "    episodes = 2000\n",
    "    gamma = 0.95\n",
    "    lr = 5e-2\n",
    "    train_epsilon = 1.0\n",
    "    test_epsilon = 0.1\n",
    "\n",
    "\n",
    "    # instantiating grid\n",
    "    agent = TabularSuccessorAgent(env.state_size, env.action_size, lr, gamma)\n",
    "\n",
    "    experiences = []\n",
    "    test_experiences = []\n",
    "    test_lengths = []\n",
    "    lifetime_td_errors = []\n",
    "    '''\n",
    "    env = GridWorld(3, 4)\n",
    "\n",
    "    #Define the state matrix\n",
    "    state_matrix = np.zeros((3,4))\n",
    "    state_matrix[0, 3] = 1\n",
    "    state_matrix[1, 3] = 1\n",
    "    state_matrix[1, 1] = -1\n",
    "    print(\"State Matrix:\")\n",
    "    print(state_matrix)\n",
    "    '''\n",
    "    \n",
    "    #Define the reward matrix\n",
    "    reward_matrix = np.full((3,4), -0.04)\n",
    "    reward_matrix[0, 3] = 1\n",
    "    reward_matrix[1, 3] = -1\n",
    "    print(\"Reward Matrix:\")\n",
    "    print(reward_matrix)\n",
    "    \n",
    "    \n",
    "    '''\n",
    "    #Define the transition matrix\n",
    "    transition_matrix = np.array([[0.8, 0.1, 0.0, 0.1],\n",
    "                                  [0.1, 0.8, 0.1, 0.0],\n",
    "                                  [0.0, 0.1, 0.8, 0.1],\n",
    "                                  [0.1, 0.0, 0.1, 0.8]])\n",
    "\n",
    "    state_action_matrix = np.random.random((4,12))\n",
    "    print(\"State-Action Matrix:\")\n",
    "    print(state_action_matrix)\n",
    "    \n",
    "\n",
    "    env.setStateMatrix(state_matrix)\n",
    "    env.setRewardMatrix(reward_matrix)\n",
    "    env.setTransitionMatrix(transition_matrix)\n",
    "   \n",
    "    utility_matrix = np.zeros((3,4))\n",
    "    print(\"Utility Matrix:\")\n",
    "    print(utility_matrix)\n",
    "    '''\n",
    "    gamma = 0.999\n",
    "    alpha = 0.001 #constant step size\n",
    "    beta_matrix = np.zeros((4,12)) #related to action learning, ow though? policy?\n",
    "    tot_epoch = 300000\n",
    "    print_epoch = 1000\n",
    "\n",
    "    for epoch in range(tot_epoch):\n",
    "        #Reset and return the first observation\n",
    "        observation = env.reset(exploring_starts=True)\n",
    "        for step in range(1000):\n",
    "            #Estimating the action through Softmax\n",
    "            col = observation[1] + (observation[0]*4)\n",
    "            action_array = state_action_matrix[:, col]\n",
    "            action_distribution = softmax(action_array)\n",
    "            action = np.random.choice(4, 1, p=action_distribution) #pick an action based on probability\n",
    "            #To enable the beta parameter, enable the libe below\n",
    "            #and add beta_matrix=beta_matrix in the update actor function\n",
    "            #beta_matrix[action,col] += 1 #increment the counter\n",
    "            #Move one step in the environment and get obs and reward\n",
    "            new_observation, reward, done = env.step(action)\n",
    "            utility_matrix, delta = update_critic(utility_matrix, observation, \n",
    "                                                  new_observation, reward, alpha, gamma, done)\n",
    "            state_action_matrix = update_actor(state_action_matrix, observation, \n",
    "                                               action, delta, beta_matrix=None)\n",
    "            observation = new_observation\n",
    "            if done: break\n",
    "            \n",
    "\n",
    "        if(epoch % print_epoch == 0):\n",
    "            print(\"\")\n",
    "            print(\"Utility matrix after \" + str(epoch+1) + \" iterations:\") \n",
    "            print(utility_matrix)\n",
    "            print(\"\")\n",
    "            print(\"State-Action matrix after \" + str(epoch+1) + \" iterations:\") \n",
    "            print(state_action_matrix)\n",
    "    #Time to check the utility matrix obtained\n",
    "    print(\"Utility matrix after \" + str(tot_epoch) + \" iterations:\")\n",
    "    print(utility_matrix)\n",
    "    print(\"State-Action matrix after  \" + str(tot_epoch) + \" iterations:\")\n",
    "    print(state_action_matrix)\n",
    "    print(reward_matrix)\n",
    "\n",
    "\n",
    "if __name__ == \"__main__\":\n",
    "    main()\n"
   ]
  }
 ],
 "metadata": {
  "kernelspec": {
   "display_name": "Python 3",
   "language": "python",
   "name": "python3"
  },
  "language_info": {
   "codemirror_mode": {
    "name": "ipython",
    "version": 3
   },
   "file_extension": ".py",
   "mimetype": "text/x-python",
   "name": "python",
   "nbconvert_exporter": "python",
   "pygments_lexer": "ipython3",
   "version": "3.7.3"
  }
 },
 "nbformat": 4,
 "nbformat_minor": 2
}
