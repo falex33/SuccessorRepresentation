{
 "cells": [
  {
   "cell_type": "code",
   "execution_count": 2,
   "metadata": {},
   "outputs": [],
   "source": [
    "import numpy as np\n",
    "import matplotlib.pyplot as plt\n",
    "import utils\n",
    "from sklearn.decomposition import PCA\n",
    "from gridworld import SimpleGrid\n",
    "\n",
    "%matplotlib inline\n",
    "\n",
    "cmap = plt.cm.viridis\n",
    "cmap.set_bad(color='white')"
   ]
  },
  {
   "cell_type": "code",
   "execution_count": 3,
   "metadata": {},
   "outputs": [
    {
     "data": {
      "text/plain": [
       "<matplotlib.image.AxesImage at 0x7f3674351940>"
      ]
     },
     "execution_count": 3,
     "metadata": {},
     "output_type": "execute_result"
    },
    {
     "data": {
      "image/png": "[encoded data removed]",
      "text/plain": [
       "<Figure size 432x288 with 1 Axes>"
      ]
     },
     "metadata": {
      "needs_background": "light"
     },
     "output_type": "display_data"
    }
   ],
   "source": [
    "grid_size = 7\n",
    "pattern=\"four_rooms\"\n",
    "env = SimpleGrid(grid_size, block_pattern=pattern, obs_mode=\"index\")\n",
    "env.reset(agent_pos=[0,0], goal_pos=[0, grid_size-1])\n",
    "plt.imshow(env.grid)"
   ]
  },
  {
   "cell_type": "code",
   "execution_count": 9,
   "metadata": {},
   "outputs": [],
   "source": [
    "class TabularSuccessorAgent(object):\n",
    "    def __init__(self, state_size, action_size, learning_rate, gamma):\n",
    "        self.state_size = state_size\n",
    "        self.action_size = action_size\n",
    "        self.M = np.stack([np.identity(state_size) for i in range(action_size)])\n",
    "        self.w = np.zeros([state_size])\n",
    "        self.learning_rate = learning_rate\n",
    "        self.gamma = gamma\n",
    "        \n",
    "    def Q_estimates(self, state, goal=None):\n",
    "        # Generate Q values for all actions.\n",
    "        if goal == None:\n",
    "            goal = self.w\n",
    "        else:\n",
    "            goal = utils.onehot(goal, self.state_size)\n",
    "        return np.matmul(self.M[:,state,:],goal)\n",
    "    \n",
    "    def sample_action(self, state, goal=None, epsilon=0.0):\n",
    "        # Samples action using epsilon-greedy approach\n",
    "        if np.random.uniform(0, 1) < epsilon:\n",
    "            action = np.random.randint(self.action_size)\n",
    "        else:\n",
    "            Qs = self.Q_estimates(state, goal)\n",
    "            action = np.argmax(Qs)\n",
    "        return action\n",
    "    \n",
    "    def update_w(self, current_exp):\n",
    "        # A simple update rule\n",
    "        s_1 = current_exp[2]\n",
    "        r = current_exp[3]\n",
    "        error = r - self.w[s_1]\n",
    "        self.w[s_1] += self.learning_rate * error        \n",
    "        return error\n",
    "    \n",
    "    def update_sr(self, current_exp, next_exp):\n",
    "        # SARSA TD learning rule\n",
    "        s = current_exp[0]\n",
    "        s_a = current_exp[1]\n",
    "        s_1 = current_exp[2]\n",
    "        s_a_1 = next_exp[1]\n",
    "        r = current_exp[3]\n",
    "        d = current_exp[4]\n",
    "        I = utils.onehot(s, env.state_size)\n",
    "        if d:            \n",
    "            td_error = (I + self.gamma * utils.onehot(s_1, env.state_size) - self.M[s_a, s, :])\n",
    "        \n",
    "        else:\n",
    "            td_error = (I + self.gamma * self.M[s_a_1, s_1, :] - self.M[s_a, s, :])\n",
    "        self.M[s_a, s, :] += self.learning_rate * td_error\n",
    "        return td_error"
   ]
  },
  {
   "cell_type": "code",
   "execution_count": 16,
   "metadata": {},
   "outputs": [
    {
     "name": "stdout",
     "output_type": "stream",
     "text": [
      "4\n",
      "Episode 0/2000, TD Error: 0.019345059022988248, Test Lengths: 49.0\n",
      "here (49,)\n",
      "Episode 950/2000, TD Error: 0.06920845590704802, Test Lengths: 7.924\n",
      "Switched reward locations\n",
      "Episode 1950/2000, TD Error: 0.07917362800848973, Test Lengths: 12.42"
     ]
    },
    {
     "data": {
      "text/plain": [
       "Text(0.5, 1.0, 'Episode Lengths')"
      ]
     },
     "execution_count": 16,
     "metadata": {},
     "output_type": "execute_result"
    },
    {
     "data": {
      "image/png": "[encoded data removed]",
      "text/plain": [
       "<Figure size 720x432 with 2 Axes>"
      ]
     },
     "metadata": {
      "needs_background": "light"
     },
     "output_type": "display_data"
    }
   ],
   "source": [
    "train_episode_length = 50\n",
    "test_episode_length = 50\n",
    "episodes = 2000\n",
    "gamma = 0.95\n",
    "lr = 5e-2\n",
    "train_epsilon = 1.0\n",
    "test_epsilon = 0.1\n",
    "\n",
    "agent = TabularSuccessorAgent(env.state_size, env.action_size, lr, gamma)\n",
    "\n",
    "print(env.action_size)\n",
    "#print (agent.M.shape)\n",
    "\n",
    "\n",
    "#np.matmul(agent.M[:,state,:],goal)\n",
    "\n",
    "experiences = []\n",
    "test_experiences = []\n",
    "test_lengths = []\n",
    "lifetime_td_errors = []\n",
    "\n",
    "for i in range(episodes):\n",
    "    # Train phase\n",
    "    agent_start = [0,0]\n",
    "    if i < episodes // 2:\n",
    "        goal_pos = [0, grid_size-1]\n",
    "    else:\n",
    "        if i == episodes // 2:\n",
    "            print(\"\\nSwitched reward locations\")\n",
    "        goal_pos = [grid_size-1,grid_size-1]\n",
    "        \n",
    "    \n",
    "        \n",
    "    \n",
    "    env.reset(agent_pos=agent_start, goal_pos=goal_pos)\n",
    "    state = env.observation\n",
    "    episodic_error = []\n",
    "    \n",
    "    for j in range(train_episode_length):\n",
    "        \n",
    "        \n",
    "            \n",
    "        action = agent.sample_action(state, epsilon=train_epsilon)\n",
    "        reward = env.step(action)\n",
    "        state_next = env.observation\n",
    "        done = env.done\n",
    "        experiences.append([state, action, state_next, reward, done])\n",
    "        state = state_next\n",
    "        if (j > 1):\n",
    "            \n",
    "            td_sr = agent.update_sr(experiences[-2], experiences[-1])\n",
    "            td_w = agent.update_w(experiences[-1])\n",
    "            episodic_error.append(np.mean(np.abs(td_sr)))\n",
    "        if env.done:\n",
    "            td_sr = agent.update_sr(experiences[-1], experiences[-1])\n",
    "            episodic_error.append(np.mean(np.abs(td_sr)))\n",
    "            break\n",
    "    lifetime_td_errors.append(np.mean(episodic_error))\n",
    "    \n",
    "    # Test phase\n",
    "    env.reset(agent_pos=agent_start, goal_pos=goal_pos)\n",
    "    state = env.observation\n",
    "    for j in range(test_episode_length):\n",
    "        action = agent.sample_action(state, epsilon=test_epsilon)\n",
    "        reward = env.step(action)\n",
    "        state_next = env.observation\n",
    "        test_experiences.append([state, action, state_next, reward])\n",
    "        state = state_next\n",
    "        if env.done:\n",
    "            break\n",
    "    test_lengths.append(j)\n",
    "    \n",
    "    if i % 50 == 0:\n",
    "        print('\\rEpisode {}/{}, TD Error: {}, Test Lengths: {}'\n",
    "              .format(i, episodes, np.mean(lifetime_td_errors[-50:]), \n",
    "                      np.mean(test_lengths[-50:])), end='')\n",
    "\n",
    "fig = plt.figure(figsize=(10, 6))\n",
    "\n",
    "ax = fig.add_subplot(2, 2, 1)\n",
    "ax.plot(lifetime_td_errors)\n",
    "ax.set_title(\"TD Error\")\n",
    "ax = fig.add_subplot(2, 2, 2)\n",
    "ax.plot(test_lengths)\n",
    "ax.set_title(\"Episode Lengths\")\n",
    "\n"
   ]
  },
  {
   "cell_type": "code",
   "execution_count": null,
   "metadata": {},
   "outputs": [],
   "source": [
    "def print_occupancy(experiences, grid_size):\n",
    "    occupancy_grid = np.zeros([grid_size, grid_size])\n",
    "    for experience in experiences:\n",
    "        occupancy_grid += env.state_to_grid(experience[0])\n",
    "    occupancy_grid = np.sqrt(occupancy_grid)\n",
    "    occupancy_grid = utils.mask_grid(occupancy_grid, env.blocks)\n",
    "    plt.imshow(occupancy_grid)"
   ]
  }
 ],
 "metadata": {
  "kernelspec": {
   "display_name": "Python 3",
   "language": "python",
   "name": "python3"
  },
  "language_info": {
   "codemirror_mode": {
    "name": "ipython",
    "version": 3
   },
   "file_extension": ".py",
   "mimetype": "text/x-python",
   "name": "python",
   "nbconvert_exporter": "python",
   "pygments_lexer": "ipython3",
   "version": "3.6.8"
  }
 },
 "nbformat": 4,
 "nbformat_minor": 2
}
